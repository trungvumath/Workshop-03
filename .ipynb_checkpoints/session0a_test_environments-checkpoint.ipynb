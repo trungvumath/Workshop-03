{
 "cells": [
  {
   "cell_type": "markdown",
   "id": "b30bb3dd",
   "metadata": {},
   "source": [
    "# Session 0a - Inmas Workshop Machine Learning Workshop, January 13-14, 2024\n",
    "## Setup Notebook\n",
    "\n",
    "## Installation of Required Python Packages & Dataset \n",
    "\n",
    "This notebooks checks whether you have the Python packages we will use installed.\n",
    "It uses `conda` (which you have been using in the last workshops to manage your packages) to install any missing packages.\n",
    "\n",
    "If you did not use Anaconda/conda to manage your packages, but alternatives such as `pip`, please find the respective installation information:\n",
    "  - [scikit-learn](https://scikit-learn.org/stable/install.html)\n",
    "  - [PyTorch (torch & torchvision)](https://pytorch.org/get-started/locally/)"
   ]
  },
  {
   "cell_type": "markdown",
   "id": "5fb56eaf-dcb1-4d09-aae3-6316b4acbe60",
   "metadata": {},
   "source": [
    "Check version of [scikit-learn](https://scikit-learn.org/stable/install.html) and download & install if necessary."
   ]
  },
  {
   "cell_type": "code",
   "execution_count": 1,
   "id": "9f83965e",
   "metadata": {},
   "outputs": [
    {
     "name": "stderr",
     "output_type": "stream",
     "text": [
      "/Users/trungvu/opt/anaconda3/lib/python3.9/site-packages/scipy/__init__.py:146: UserWarning: A NumPy version >=1.16.5 and <1.23.0 is required for this version of SciPy (detected version 1.26.3\n",
      "  warnings.warn(f\"A NumPy version >={np_minversion} and <{np_maxversion}\"\n"
     ]
    },
    {
     "name": "stdout",
     "output_type": "stream",
     "text": [
      "Version of sklearn: 0.24.2\n"
     ]
    }
   ],
   "source": [
    "try: \n",
    "    import sklearn\n",
    "    print(f\"Version of sklearn: {sklearn.__version__}\")\n",
    "except ModuleNotFoundError:\n",
    "    !conda install --yes scikit-learn==1.3.2\n",
    "    import sklearn\n",
    "    print(f\"Version of sklearn: {sklearn.__version__}\")"
   ]
  },
  {
   "cell_type": "markdown",
   "id": "7243a2bb-ba69-496b-a77a-e4c656d1d3d3",
   "metadata": {},
   "source": [
    "Similar procedure for [numpy](https://numpy.org/install/), [matplotlib](https://matplotlib.org/stable/), [pandas](https://pandas.pydata.org/docs/getting_started/install.html), [scipy](https://scipy.org/install/) and [seaborn](https://seaborn.pydata.org/installing.html) packages."
   ]
  },
  {
   "cell_type": "code",
   "execution_count": null,
   "id": "559817c3",
   "metadata": {},
   "outputs": [],
   "source": [
    "try: \n",
    "    import numpy\n",
    "    print(f\"Version of numpy: {numpy.__version__}\")\n",
    "except ModuleNotFoundError:\n",
    "    !conda install --yes numpy\n",
    "    import numpy\n",
    "    print(f\"Version of numpy: {numpy.__version__}\")\n",
    "try: \n",
    "    import matplotlib\n",
    "    print(f\"Version of matplotlib: {matplotlib.__version__}\")\n",
    "except ModuleNotFoundError:\n",
    "    !conda install --yes matplotlib\n",
    "    import matplotlib\n",
    "    \n",
    "    print(f\"Version of matplotlib: {matplotlib.__version__}\")\n",
    "try: \n",
    "    import pandas\n",
    "    print(f\"Version of pandas: {pandas.__version__}\")\n",
    "except ModuleNotFoundError:\n",
    "    !conda install --yes pandas\n",
    "    import pandas\n",
    "    print(f\"Version of pandas: {pandas.__version__}\")\n",
    "try: \n",
    "    import scipy\n",
    "    print(f\"Version of scipy: {scipy.__version__}\")\n",
    "except ModuleNotFoundError:\n",
    "    !conda install --yes scipy\n",
    "    import scipy\n",
    "    print(f\"Version of scipy: {scipy.__version__}\")\n",
    "try: \n",
    "    import seaborn\n",
    "    print(f\"Version of seaborn: {seaborn.__version__}\")\n",
    "except ModuleNotFoundError:\n",
    "    !conda install --yes seaborn\n",
    "    import seaborn\n",
    "    print(f\"Version of seaborn: {seaborn.__version__}\")"
   ]
  },
  {
   "cell_type": "markdown",
   "id": "d5d6a568-bdc5-4424-9047-960859c8062e",
   "metadata": {},
   "source": [
    "Check version of [PyTorch](https://pytorch.org/get-started/locally/) and [torchvision](https://pytorch.org/vision/stable/index.html) and download & install if necessary. Torchvision is a suitable tool for us to obtain a dataset we will use later in the workshop."
   ]
  },
  {
   "cell_type": "code",
   "execution_count": null,
   "id": "4d9e3aac",
   "metadata": {},
   "outputs": [],
   "source": [
    "try: \n",
    "    import torch\n",
    "    print(f\"Version of torch: {torch.__version__}\")\n",
    "    print(f\"Version of torchvision: {torchvision.__version__}\")\n",
    "except ModuleNotFoundError:\n",
    "    !conda install --yes pytorch torchvision -c pytorch\n",
    "    import torch\n",
    "    print(f\"Version of torch: {torch.__version__}\")\n",
    "    print(f\"Version of torchvision: {torchvision.__version__}\")"
   ]
  },
  {
   "cell_type": "markdown",
   "id": "78012ee0-b8d9-43cc-9564-a5f1fb15aa7b",
   "metadata": {},
   "source": [
    "We now attempt to download the [FashionMNIST](https://github.com/zalandoresearch/fashion-mnist) dataset (as we will use it later)."
   ]
  },
  {
   "cell_type": "code",
   "execution_count": null,
   "id": "20748449",
   "metadata": {},
   "outputs": [],
   "source": [
    "train_set = torchvision.datasets.FashionMNIST(root=\"./\", download=True, \n",
    "                                              train=True,\n",
    "                                              transform=transforms.Compose([transforms.ToTensor()]))\n",
    "\n",
    "test_set = torchvision.datasets.FashionMNIST(root=\"./\", download=True, \n",
    "                                              train=False,\n",
    "                                              transform=transforms.Compose([transforms.ToTensor()]))"
   ]
  },
  {
   "cell_type": "markdown",
   "id": "d231fa14-66df-4651-85be-287cc97a0dd8",
   "metadata": {},
   "source": [
    "The following command provides a list of all Python packages installed in your environment together with the respective version number."
   ]
  },
  {
   "cell_type": "code",
   "execution_count": null,
   "id": "8f759d75",
   "metadata": {},
   "outputs": [],
   "source": [
    "!conda list"
   ]
  },
  {
   "cell_type": "code",
   "execution_count": null,
   "id": "4c33671f",
   "metadata": {},
   "outputs": [],
   "source": []
  }
 ],
 "metadata": {
  "kernelspec": {
   "display_name": "Python 3 (ipykernel)",
   "language": "python",
   "name": "python3"
  },
  "language_info": {
   "codemirror_mode": {
    "name": "ipython",
    "version": 3
   },
   "file_extension": ".py",
   "mimetype": "text/x-python",
   "name": "python",
   "nbconvert_exporter": "python",
   "pygments_lexer": "ipython3",
   "version": "3.9.7"
  }
 },
 "nbformat": 4,
 "nbformat_minor": 5
}
